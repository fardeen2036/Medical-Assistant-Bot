import redis
import pandas as pd

# Connect to Redis
redis_client = redis.Redis(
    host="redis-16019.c330.asia-south1-1.gce.redns.redis-cloud.com",
    port=16019,
    password="Fg49tr0oXsC9KRLawZ9nryZleACcjey2",
    decode_responses=True
)

# Test Redis connection
if redis_client.ping():
    print("✅ Connected to Redis!")

# Load drug interaction dataset
file_path = r"D:\OneDrive\Desktop\new\dataset\Drug_Drug Interactions\db_drug_interactions.csv"
df = pd.read_csv(file_path)
df.columns = df.columns.str.strip()  # Clean up column names

# Drop rows with missing essential data
df.dropna(subset=["Drug_1", "Drug_2", "Interaction_Description"], inplace=True)

# Store drug interactions in Redis
for _, row in df.iterrows():
    drug1 = row["Drug_1"].strip().lower()
    drug2 = row["Drug_2"].strip().lower()
    interaction_desc = row["Interaction_Description"]

    # Store both directions
    redis_client.sadd(f"drug:{drug1}:interactions", f"{drug2}|{interaction_desc}")
    redis_client.sadd(f"drug:{drug2}:interactions", f"{drug1}|{interaction_desc}")

print("✅ Drug interactions stored in Redis.")

# Function to test a single drug
def check_drug_interaction(drug_name):
    drug_name = drug_name.lower().strip()
    interactions = redis_client.smembers(f"drug:{drug_name}:interactions")

    if not interactions:
        return f"No known interactions for {drug_name}."

    print(f"⚠ Interactions for {drug_name}:")
    for interaction in interactions:
        try:
            drug, desc = interaction.split("|", 1)
            print(f"   🚨 {drug}: {desc}")
        except ValueError:
            print("⚠ Bad format entry, skipping.")

# Example test
test_drug = "aspirin"  # or 'cyclophosphamide'
check_drug_interaction(test_drug)
