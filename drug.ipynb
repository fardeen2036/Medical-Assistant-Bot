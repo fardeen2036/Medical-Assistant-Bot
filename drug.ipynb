{
 "cells": [
  {
   "cell_type": "code",
   "execution_count": 20,
   "id": "2dc8b0b6-bcd9-4d67-b54d-1ae8eaad672d",
   "metadata": {},
   "outputs": [],
   "source": [
    "def check_drug_interaction(drug1, drug2):\n",
    "    # Filter the data to find interactions between the two drugs\n",
    "    interaction = df_drugs[\n",
    "        (df_drugs['Drug_1'] == drug1) & (df_drugs['Drug_2'] == drug2) |\n",
    "        (df_drugs['Drug_1'] == drug2) & (df_drugs['Drug_2'] == drug1)\n",
    "    ]\n",
    "    \n",
    "    if not interaction.empty:\n",
    "        return interaction['Interaction Description'].values[0]  # return the interaction description\n",
    "    else:\n",
    "        return \"No interaction found.\"\n"
   ]
  },
  {
   "cell_type": "code",
   "execution_count": 21,
   "id": "5f77316a-5bc5-490a-bd80-ef74c0b75087",
   "metadata": {},
   "outputs": [
    {
     "name": "stdout",
     "output_type": "stream",
     "text": [
      "Interaction between Aspirin and Warfarin: No interaction found.\n"
     ]
    }
   ],
   "source": [
    "drug1 = \"Aspirin\"\n",
    "drug2 = \"Warfarin\"\n",
    "interaction = check_drug_interaction(drug1, drug2)\n",
    "print(f\"Interaction between {drug1} and {drug2}: {interaction}\")\n"
   ]
  }
 ],
 "metadata": {
  "kernelspec": {
   "display_name": "Python 3 (ipykernel)",
   "language": "python",
   "name": "python3"
  },
  "language_info": {
   "codemirror_mode": {
    "name": "ipython",
    "version": 3
   },
   "file_extension": ".py",
   "mimetype": "text/x-python",
   "name": "python",
   "nbconvert_exporter": "python",
   "pygments_lexer": "ipython3",
   "version": "3.12.4"
  }
 },
 "nbformat": 4,
 "nbformat_minor": 5
}
