{
 "cells": [
  {
   "cell_type": "code",
   "execution_count": 3,
   "id": "8111ed8b-bf89-48cb-be03-396c9e310a9b",
   "metadata": {},
   "outputs": [
    {
     "name": "stdout",
     "output_type": "stream",
     "text": [
      "                                         disease                          drug\n",
      "0                      alkylating agent cystitis            sodium bicarbonate\n",
      "1                      alkylating agent cystitis  citric acid / sodium citrate\n",
      "2                           abdominal distension                   bethanechol\n",
      "3                           abdominal distension                      pamabrom\n",
      "4  abdominal distension prior to abdominal x-ray                   vasopressin\n"
     ]
    }
   ],
   "source": [
    "import pandas as pd\n",
    "\n",
    "df= pd.read_csv('dataset/Drug prescription to disease/final.csv')\n",
    "# Remove duplicate entries\n",
    "df = df.drop(columns=['Unnamed: 0'])\n",
    "\n",
    "# Standardize text formatting\n",
    "df['disease'] = df['disease'].str.lower().str.strip()\n",
    "df['drug'] = df['drug'].str.lower().str.strip()\n",
    "\n",
    "# Remove duplicates\n",
    "df = df.drop_duplicates().reset_index(drop=True)\n",
    "\n",
    "# Display the cleaned data\n",
    "print(df.head())"
   ]
  },
  {
   "cell_type": "code",
   "execution_count": 14,
   "id": "5873ac30-0276-4878-9bce-b10c0d924d0e",
   "metadata": {},
   "outputs": [
    {
     "name": "stdout",
     "output_type": "stream",
     "text": [
      "['pamabrom' 'bethanechol' 'vasopressin']\n"
     ]
    }
   ],
   "source": [
    "from sklearn.feature_extraction.text import TfidfVectorizer\n",
    "from sklearn.metrics.pairwise import cosine_similarity\n",
    "\n",
    "# Convert disease names to lowercase to avoid case mismatch\n",
    "df['disease'] = df['disease'].str.lower()\n",
    "\n",
    "# TF-IDF Vectorization for Disease Names\n",
    "vectorizer = TfidfVectorizer()\n",
    "tfidf_matrix = vectorizer.fit_transform(df['disease'])\n",
    "\n",
    "# Compute cosine similarity\n",
    "cosine_sim = cosine_similarity(tfidf_matrix, tfidf_matrix)\n",
    "\n",
    "# Function to Recommend Medicines Based on Disease Similarity\n",
    "def recommend_medicines(disease_name, df, similarity_matrix, top_n=5):\n",
    "    disease_name = disease_name.lower()  # Convert input to lowercase for matching\n",
    "\n",
    "    if disease_name not in df['disease'].values:\n",
    "        return \"Disease not found in the dataset.\"\n",
    "\n",
    "    # Find all indices of the input disease (some diseases may appear multiple times)\n",
    "    disease_indices = df[df['disease'] == disease_name].index.tolist()\n",
    "\n",
    "    # Get similarity scores for all diseases\n",
    "    sim_scores = []\n",
    "    for idx in disease_indices:\n",
    "        sim_scores.extend(list(enumerate(similarity_matrix[idx])))\n",
    "\n",
    "    # Sort by highest similarity (excluding itself)\n",
    "    sim_scores = sorted(sim_scores, key=lambda x: x[1], reverse=True)[1 : top_n + 1]\n",
    "\n",
    "    # Get top similar disease indices\n",
    "    similar_disease_indices = [i[0] for i in sim_scores]\n",
    "\n",
    "    # Recommend medicines based on similar diseases\n",
    "    recommended_meds = df.iloc[similar_disease_indices]['drug'].unique()\n",
    "\n",
    "    return recommended_meds if len(recommended_meds) > 0 else [\"No recommendations found.\"]\n",
    "\n",
    "# Example Usage\n",
    "disease_name = \"abdominal distension\"\n",
    "print(recommend_medicines(disease_name, df, cosine_sim))\n"
   ]
  },
  {
   "cell_type": "code",
   "execution_count": 18,
   "id": "f574c70c-a03a-41e0-a5f7-47fad578465c",
   "metadata": {},
   "outputs": [
    {
     "name": "stdout",
     "output_type": "stream",
     "text": [
      "[{'medicine': 'pamabrom', 'source_disease': 'abdominal distension'}, {'medicine': 'vasopressin', 'source_disease': 'abdominal distension prior to abdominal x-ray'}, {'medicine': 'bethanechol', 'source_disease': 'abdominal distension'}]\n"
     ]
    }
   ],
   "source": [
    "from collections import Counter\n",
    "\n",
    "def recommend_medicines(disease_name, df, similarity_matrix, top_n=5):\n",
    "    disease_name = disease_name.lower()  # Convert input to lowercase for matching\n",
    "\n",
    "    if disease_name not in df['disease'].values:\n",
    "        return \"Disease not found in the dataset.\"\n",
    "\n",
    "    # Find all indices of the input disease\n",
    "    disease_indices = df[df['disease'] == disease_name].index.tolist()\n",
    "\n",
    "    # Get similarity scores for all diseases\n",
    "    sim_scores = []\n",
    "    for idx in disease_indices:\n",
    "        sim_scores.extend(list(enumerate(similarity_matrix[idx])))\n",
    "\n",
    "    # Sort by highest similarity (excluding the input disease itself)\n",
    "    sim_scores = sorted(sim_scores, key=lambda x: x[1], reverse=True)[1 : top_n + 1]\n",
    "\n",
    "    # Get top similar disease indices\n",
    "    similar_disease_indices = [i[0] for i in sim_scores]\n",
    "\n",
    "    # Extract medicines and corresponding diseases\n",
    "    recommended_pairs = df.iloc[similar_disease_indices][['disease', 'drug']].values.tolist()\n",
    "\n",
    "    # Rank medicines by frequency\n",
    "    med_counts = Counter([pair[1] for pair in recommended_pairs])\n",
    "    ranked_meds = [med for med, count in med_counts.most_common()]\n",
    "\n",
    "    # Organize output: Show which disease the medicine was taken from\n",
    "    recommendations = [\n",
    "        {\"medicine\": med, \"source_disease\": next(pair[0] for pair in recommended_pairs if pair[1] == med)}\n",
    "        for med in ranked_meds\n",
    "    ]\n",
    "\n",
    "    return recommendations if recommendations else [\"No recommendations found.\"]\n",
    "\n",
    "# Example Usage\n",
    "disease_name = \"abdominal distension\"\n",
    "print(recommend_medicines(disease_name, df, cosine_sim))\n"
   ]
  },
  {
   "cell_type": "code",
   "execution_count": 19,
   "id": "455e21f2-9e33-4817-991f-febfc5a074ef",
   "metadata": {},
   "outputs": [
    {
     "name": "stdout",
     "output_type": "stream",
     "text": [
      "Collecting Flask\n",
      "  Downloading flask-3.1.0-py3-none-any.whl.metadata (2.7 kB)\n",
      "Requirement already satisfied: Werkzeug>=3.1 in d:\\onedrive\\desktop\\new\\healthcare_env\\lib\\site-packages (from Flask) (3.1.3)\n",
      "Requirement already satisfied: Jinja2>=3.1.2 in d:\\onedrive\\desktop\\new\\healthcare_env\\lib\\site-packages (from Flask) (3.1.6)\n",
      "Collecting itsdangerous>=2.2 (from Flask)\n",
      "  Downloading itsdangerous-2.2.0-py3-none-any.whl.metadata (1.9 kB)\n",
      "Requirement already satisfied: click>=8.1.3 in d:\\onedrive\\desktop\\new\\healthcare_env\\lib\\site-packages (from Flask) (8.1.8)\n",
      "Collecting blinker>=1.9 (from Flask)\n",
      "  Downloading blinker-1.9.0-py3-none-any.whl.metadata (1.6 kB)\n",
      "Requirement already satisfied: colorama in d:\\onedrive\\desktop\\new\\healthcare_env\\lib\\site-packages (from click>=8.1.3->Flask) (0.4.6)\n",
      "Requirement already satisfied: MarkupSafe>=2.0 in d:\\onedrive\\desktop\\new\\healthcare_env\\lib\\site-packages (from Jinja2>=3.1.2->Flask) (3.0.2)\n",
      "Downloading flask-3.1.0-py3-none-any.whl (102 kB)\n",
      "Downloading blinker-1.9.0-py3-none-any.whl (8.5 kB)\n",
      "Downloading itsdangerous-2.2.0-py3-none-any.whl (16 kB)\n",
      "Installing collected packages: itsdangerous, blinker, Flask\n",
      "Successfully installed Flask-3.1.0 blinker-1.9.0 itsdangerous-2.2.0\n",
      "Note: you may need to restart the kernel to use updated packages.\n"
     ]
    }
   ],
   "source": [
    "pip install Flask"
   ]
  },
  {
   "cell_type": "code",
   "execution_count": 22,
   "id": "2575c605-58ef-4d96-a1b4-9d4ac4bff595",
   "metadata": {},
   "outputs": [
    {
     "name": "stdout",
     "output_type": "stream",
     "text": [
      " * Serving Flask app '__main__'\n",
      " * Debug mode: off\n"
     ]
    },
    {
     "name": "stderr",
     "output_type": "stream",
     "text": [
      "WARNING: This is a development server. Do not use it in a production deployment. Use a production WSGI server instead.\n",
      " * Running on http://127.0.0.1:5000\n",
      "Press CTRL+C to quit\n",
      "127.0.0.1 - - [02/Apr/2025 15:46:09] \"GET / HTTP/1.1\" 200 -\n",
      "127.0.0.1 - - [02/Apr/2025 15:46:09] \"GET /favicon.ico HTTP/1.1\" 404 -\n",
      "127.0.0.1 - - [02/Apr/2025 15:48:48] \"GET / HTTP/1.1\" 200 -\n",
      "127.0.0.1 - - [02/Apr/2025 15:50:02] \"GET / HTTP/1.1\" 200 -\n",
      "127.0.0.1 - - [02/Apr/2025 15:50:56] \"GET / HTTP/1.1\" 200 -\n"
     ]
    }
   ],
   "source": [
    "from flask import Flask\n",
    "import threading\n",
    "\n",
    "app = Flask(__name__)\n",
    "\n",
    "@app.route(\"/\")\n",
    "def home():\n",
    "    return \"Flask app is running inside Jupyter!\"\n",
    "\n",
    "# Function to run Flask app\n",
    "def run_flask():\n",
    "    app.run(debug=False, use_reloader=False)\n",
    "\n",
    "# Run Flask in a separate thread\n",
    "flask_thread = threading.Thread(target=run_flask)\n",
    "flask_thread.start()\n"
   ]
  }
 ],
 "metadata": {
  "kernelspec": {
   "display_name": "Python 3 (ipykernel)",
   "language": "python",
   "name": "python3"
  },
  "language_info": {
   "codemirror_mode": {
    "name": "ipython",
    "version": 3
   },
   "file_extension": ".py",
   "mimetype": "text/x-python",
   "name": "python",
   "nbconvert_exporter": "python",
   "pygments_lexer": "ipython3",
   "version": "3.12.4"
  }
 },
 "nbformat": 4,
 "nbformat_minor": 5
}
